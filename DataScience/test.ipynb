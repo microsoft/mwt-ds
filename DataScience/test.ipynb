{
 "metadata": {
  "language_info": {
   "codemirror_mode": {
    "name": "ipython",
    "version": 3
   },
   "file_extension": ".py",
   "mimetype": "text/x-python",
   "name": "python",
   "nbconvert_exporter": "python",
   "pygments_lexer": "ipython3",
   "version": "3.7.8-final"
  },
  "orig_nbformat": 2,
  "kernelspec": {
   "name": "python3",
   "display_name": "Python 3",
   "language": "python"
  }
 },
 "nbformat": 4,
 "nbformat_minor": 2,
 "cells": [
  {
   "source": [
    "# Generate test data"
   ],
   "cell_type": "markdown",
   "metadata": {}
  },
  {
   "cell_type": "code",
   "execution_count": null,
   "metadata": {},
   "outputs": [],
   "source": [
    "from random import random\n",
    "import json\n",
    "\n",
    "def cb_gen(rot=0):\n",
    "    action = rot % 2\n",
    "    reward = int(random() < 0.8) if action == 1 else int(random() < 0.2)\n",
    "    obj = {\n",
    "        '_label_cost': -reward,\n",
    "        '_label_probability': 0.5,\n",
    "        '_label_Action': action + 1,\n",
    "        '_labelIndex': action,\n",
    "        'a': [action, (action + 1) % 2],\n",
    "        'c': { 'F': '1', '_multi': [ {'T': { 'A':'2'}} , {'A': { 'F':'3' }} ] },\n",
    "        'p': [0.5,0.5]}\n",
    "    return json.dumps(obj)\n",
    " \n",
    "\n",
    "def cb_file(fname, count):\n",
    "    with open(fname, 'w') as f:\n",
    "        for i in range(count):\n",
    "            f.write(cb_gen(i) + '\\n')\n",
    "\n",
    "cb_file('cb.json', 1000000)"
   ]
  },
  {
   "cell_type": "code",
   "execution_count": null,
   "metadata": {},
   "outputs": [],
   "source": [
    "vw = r'C:\\vw\\vw.exe'"
   ]
  },
  {
   "source": [
    "# Legacy worker performance"
   ],
   "cell_type": "markdown",
   "metadata": {}
  },
  {
   "source": [
    "## Valid configuration"
   ],
   "cell_type": "markdown",
   "metadata": {}
  },
  {
   "cell_type": "code",
   "execution_count": null,
   "metadata": {},
   "outputs": [],
   "source": [
    "import timeit\n",
    "from Experimentation import run_experiment_legacy, Command\n",
    "\n",
    "good = Command(f'{vw} --cb_explore_adf --dsjson -d cb.json')\n",
    "good_result = run_experiment_legacy(good)\n",
    "print(f'{timeit.timeit(lambda: run_experiment_legacy(good), number=10)}')\n",
    "print(f'Loss = {good_result.loss}')"
   ]
  },
  {
   "source": [
    "## Invalid configuration"
   ],
   "cell_type": "markdown",
   "metadata": {}
  },
  {
   "cell_type": "code",
   "execution_count": null,
   "metadata": {},
   "outputs": [],
   "source": [
    "import timeit\n",
    "from Experimentation import run_experiment_legacy, Command\n",
    "\n",
    "bad = Command(f'{vw} --cb_explore_adf --dsjson -d cb.json --marginal A')\n",
    "bad_result = run_experiment_legacy(bad)\n",
    "print(f'{timeit.timeit(lambda: run_experiment_legacy(bad), number=1)}')\n",
    "print(f'Loss = {bad_result.loss}')"
   ]
  },
  {
   "source": [
    "# New worker performance"
   ],
   "cell_type": "markdown",
   "metadata": {}
  },
  {
   "source": [
    "## Valid configuration"
   ],
   "cell_type": "markdown",
   "metadata": {}
  },
  {
   "cell_type": "code",
   "execution_count": null,
   "metadata": {},
   "outputs": [],
   "source": [
    "import timeit\n",
    "from Experimentation import run_experiment, Command\n",
    "from loggers import Logger\n",
    "\n",
    "Logger.create_loggers()\n",
    "\n",
    "good = Command(f'{vw} --cb_explore_adf --dsjson -d cb.json')\n",
    "good_result = run_experiment(good, 10000)\n",
    "print(f'{timeit.timeit(lambda: run_experiment(good, 10000), number=10)}')\n",
    "print(f'Loss = {good_result.loss}')"
   ]
  },
  {
   "source": [
    "## Invalid configuration"
   ],
   "cell_type": "markdown",
   "metadata": {}
  },
  {
   "cell_type": "code",
   "execution_count": null,
   "metadata": {},
   "outputs": [],
   "source": [
    "import timeit\n",
    "from Experimentation import run_experiment, Command\n",
    "\n",
    "bad = Command(f'{vw} --cb_explore_adf --dsjson -d cb.json --marginal A')\n",
    "bad_result = run_experiment(bad, 10000)\n",
    "print(f'{timeit.timeit(lambda: run_experiment(bad, 10000), number=1)}')\n",
    "print(f'Loss = {bad_result.loss}')"
   ]
  },
  {
   "cell_type": "code",
   "execution_count": null,
   "metadata": {},
   "outputs": [],
   "source": [
    "import timeit\n",
    "from Experimentation import run_experiment, Command\n",
    "\n",
    "bad = Command(f'{vw} --cb_explore_adf --dsjson -d cb.json --marginal A')\n",
    "bad_result = run_experiment(bad)\n",
    "print(f'{timeit.timeit(lambda: run_experiment(bad), number=1)}')\n",
    "print(f'Loss = {bad_result.loss}')"
   ]
  },
  {
   "cell_type": "code",
   "execution_count": null,
   "metadata": {},
   "outputs": [],
   "source": []
  }
 ]
}